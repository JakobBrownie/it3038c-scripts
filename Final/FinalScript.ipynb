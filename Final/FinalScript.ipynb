{
 "cells": [
  {
   "cell_type": "code",
   "execution_count": null,
   "metadata": {},
   "outputs": [],
   "source": [
    "import matplotlib as plt \n",
    "import pandas as pd\n",
    "from IPython.display import display\n",
    "%matplotlib qt"
   ]
  },
  {
   "cell_type": "code",
   "execution_count": null,
   "metadata": {},
   "outputs": [],
   "source": [
    "data_file = input(\"Please enter the full file path to your csv, ex: E:/Survey/survey_results_public.csv: \")\n",
    "try:\n",
    "    df = pd.read_csv(data_file)\n",
    "except:\n",
    "    print(\"Please enter a valid file type/ correct path!\")\n",
    "df = pd.read_csv(data_file)\n",
    "display(df.head(20))"
   ]
  },
  {
   "cell_type": "code",
   "execution_count": null,
   "metadata": {},
   "outputs": [],
   "source": [
    "header_choice = input(\"Please pick a header to explore: \")\n",
    "try:\n",
    "    df[header_choice].value_counts()\n",
    "except:\n",
    "    print(\"please choose an available header!\")\n",
    "df[header_choice].value_counts()"
   ]
  },
  {
   "cell_type": "code",
   "execution_count": null,
   "metadata": {},
   "outputs": [],
   "source": [
    "print(\"Please enter a number for the graph type you want for your data: \")\n",
    "graph_choice = int(input(\"1 for pie chartor 2 for bar graph: \"))\n",
    "\n",
    "if graph_choice == 1:\n",
    "    df[header_choice].value_counts().plot(kind=\"pie\")\n",
    "elif graph_choice == 2:\n",
    "    df[header_choice].value_counts().plot(kind = \"bar\", figsize=(20, 10))\n",
    "else :\n",
    "    print(\"please choose 1, 2 or 3 for your graph!\")"
   ]
  }
 ],
 "metadata": {
  "kernelspec": {
   "display_name": "Python 3",
   "language": "python",
   "name": "python3"
  },
  "language_info": {
   "codemirror_mode": {
    "name": "ipython",
    "version": 3
   },
   "file_extension": ".py",
   "mimetype": "text/x-python",
   "name": "python",
   "nbconvert_exporter": "python",
   "pygments_lexer": "ipython3",
   "version": "3.11.2"
  },
  "orig_nbformat": 4
 },
 "nbformat": 4,
 "nbformat_minor": 2
}
